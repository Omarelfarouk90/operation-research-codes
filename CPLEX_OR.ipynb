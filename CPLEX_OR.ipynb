{
  "nbformat": 4,
  "nbformat_minor": 0,
  "metadata": {
    "colab": {
      "name": "CPLEX OR.ipynb",
      "provenance": [],
      "collapsed_sections": [],
      "authorship_tag": "ABX9TyM68PTY9UxKvM8Wv9ZrdHWP",
      "include_colab_link": true
    },
    "kernelspec": {
      "name": "python3",
      "display_name": "Python 3"
    },
    "language_info": {
      "name": "python"
    }
  },
  "cells": [
    {
      "cell_type": "markdown",
      "metadata": {
        "id": "view-in-github",
        "colab_type": "text"
      },
      "source": [
        "<a href=\"https://colab.research.google.com/github/Omarelfarouk90/operation-research-codes/blob/main/CPLEX_OR.ipynb\" target=\"_parent\"><img src=\"https://colab.research.google.com/assets/colab-badge.svg\" alt=\"Open In Colab\"/></a>"
      ]
    },
    {
      "cell_type": "markdown",
      "source": [
        "Installing Free CPLEX version on google COLAB"
      ],
      "metadata": {
        "id": "iqmgRG2OyU5N"
      }
    },
    {
      "cell_type": "code",
      "source": [
        "!pip install pyomo -q\n",
        "!pip install cplex -q\n",
        "\n",
        "import pyomo.environ as pyo"
      ],
      "metadata": {
        "id": "kloYG-i65hli",
        "colab": {
          "base_uri": "https://localhost:8080/"
        },
        "outputId": "1df7d585-bed2-4202-8d6f-91780d939fca"
      },
      "execution_count": null,
      "outputs": [
        {
          "output_type": "stream",
          "name": "stdout",
          "text": [
            "\u001b[K     |████████████████████████████████| 9.6 MB 5.2 MB/s \n",
            "\u001b[K     |████████████████████████████████| 49 kB 4.8 MB/s \n",
            "\u001b[K     |████████████████████████████████| 43.3 MB 11 kB/s \n",
            "\u001b[?25h"
          ]
        }
      ]
    },
    {
      "cell_type": "code",
      "source": [
        "%matplotlib inline\n",
        "import matplotlib.pyplot as plt\n",
        "import numpy as np\n",
        "\n",
        "import shutil\n",
        "import sys\n",
        "import os.path\n",
        "\n",
        "if not shutil.which(\"pyomo\"):\n",
        "    !pip install -q pyomo\n",
        "    assert(shutil.which(\"pyomo\"))\n",
        "\n",
        "if not (shutil.which(\"cbc\") or os.path.isfile(\"cbc\")):\n",
        "    if \"google.colab\" in sys.modules:\n",
        "        !apt-get install -y -qq coinor-cbc\n",
        "    else:\n",
        "        try:\n",
        "            !conda install -c conda-forge coincbc \n",
        "        except:\n",
        "            pass\n",
        "\n",
        "assert(shutil.which(\"cbc\") or os.path.isfile(\"cbc\"))\n",
        "\n",
        "from pyomo.environ import *"
      ],
      "metadata": {
        "colab": {
          "base_uri": "https://localhost:8080/"
        },
        "id": "1fqILaqBCvZz",
        "outputId": "66dd6f9e-89c6-4056-c418-7a802d9a07dc"
      },
      "execution_count": null,
      "outputs": [
        {
          "output_type": "stream",
          "name": "stdout",
          "text": [
            "Selecting previously unselected package coinor-libcoinutils3v5.\n",
            "(Reading database ... 156210 files and directories currently installed.)\n",
            "Preparing to unpack .../0-coinor-libcoinutils3v5_2.10.14+repack1-1_amd64.deb ...\n",
            "Unpacking coinor-libcoinutils3v5 (2.10.14+repack1-1) ...\n",
            "Selecting previously unselected package coinor-libosi1v5.\n",
            "Preparing to unpack .../1-coinor-libosi1v5_0.107.9+repack1-1_amd64.deb ...\n",
            "Unpacking coinor-libosi1v5 (0.107.9+repack1-1) ...\n",
            "Selecting previously unselected package coinor-libclp1.\n",
            "Preparing to unpack .../2-coinor-libclp1_1.16.11+repack1-1_amd64.deb ...\n",
            "Unpacking coinor-libclp1 (1.16.11+repack1-1) ...\n",
            "Selecting previously unselected package coinor-libcgl1.\n",
            "Preparing to unpack .../3-coinor-libcgl1_0.59.10+repack1-1_amd64.deb ...\n",
            "Unpacking coinor-libcgl1 (0.59.10+repack1-1) ...\n",
            "Selecting previously unselected package coinor-libcbc3.\n",
            "Preparing to unpack .../4-coinor-libcbc3_2.9.9+repack1-1_amd64.deb ...\n",
            "Unpacking coinor-libcbc3 (2.9.9+repack1-1) ...\n",
            "Selecting previously unselected package coinor-cbc.\n",
            "Preparing to unpack .../5-coinor-cbc_2.9.9+repack1-1_amd64.deb ...\n",
            "Unpacking coinor-cbc (2.9.9+repack1-1) ...\n",
            "Setting up coinor-libcoinutils3v5 (2.10.14+repack1-1) ...\n",
            "Setting up coinor-libosi1v5 (0.107.9+repack1-1) ...\n",
            "Setting up coinor-libclp1 (1.16.11+repack1-1) ...\n",
            "Setting up coinor-libcgl1 (0.59.10+repack1-1) ...\n",
            "Setting up coinor-libcbc3 (2.9.9+repack1-1) ...\n",
            "Setting up coinor-cbc (2.9.9+repack1-1) ...\n",
            "Processing triggers for man-db (2.8.3-2ubuntu0.1) ...\n",
            "Processing triggers for libc-bin (2.27-3ubuntu1.3) ...\n",
            "/sbin/ldconfig.real: /usr/local/lib/python3.7/dist-packages/ideep4py/lib/libmkldnn.so.0 is not a symbolic link\n",
            "\n"
          ]
        }
      ]
    },
    {
      "cell_type": "markdown",
      "source": [
        "Decision variables are\n",
        "\n",
        "$x_1$ for the share in project 1\n",
        "\n",
        "and $x_2$ for the share in project 2\n",
        "\n",
        "objective fucntion\n",
        "\n",
        "maximize  $Z$ = 4500 $x_1$ + 4500 $x_2$\n",
        "\n",
        "Constraints \n",
        "\n",
        "Subject to\n",
        "\n",
        "400 $ x_1 + 500 x_2 <= 600$\n",
        "\n",
        "$ 5000 x_1 + 4000 x_2 <= 6000$\n",
        "\n",
        "$x_1 <= 1$\n",
        "\n",
        "$x_2 <= 1$\n",
        "\n",
        "$x_1 >= 0$\n",
        "\n",
        "$x_2 >= 0$"
      ],
      "metadata": {
        "id": "wCk1VZyVNUG_"
      }
    },
    {
      "cell_type": "markdown",
      "source": [
        "Describing the model using LATEX code on the google COLAB"
      ],
      "metadata": {
        "id": "LIoNInMrygCx"
      }
    },
    {
      "cell_type": "markdown",
      "source": [
        ""
      ],
      "metadata": {
        "id": "AFEZxnXRisnw"
      }
    },
    {
      "cell_type": "markdown",
      "source": [
        "Using the model from tutorial 1 , Quesiton 1 "
      ],
      "metadata": {
        "id": "I8KfeeO7isqi"
      }
    },
    {
      "cell_type": "code",
      "source": [
        "model = pyo.ConcreteModel()\n",
        "\n",
        "# declare decision variables\n",
        "model.x = pyo.Var(domain=pyo.NonNegativeReals)\n",
        "model.y = pyo.Var(domain=pyo.NonNegativeReals)\n",
        "\n",
        "# declare objective\n",
        "model.profit = pyo.Objective(\n",
        "    expr = 4500*model.x + 4500*model.y,\n",
        "    sense = pyo.maximize)\n",
        "\n",
        "# declare constraints\n",
        "model.share1 =pyo.Constraint(expr = model.x <= 1)\n",
        "model.share2 =pyo.Constraint(expr = model.y <= 1)\n",
        "model.time = pyo.Constraint(expr = 400*model.x + 500*model.y <= 600)\n",
        "model.money = pyo.Constraint(expr = 5000*model.x + 4000*model.y <= 6000)\n",
        "\n",
        "# solve\n",
        "#pyo.SolverFactory('cplex_direct')\n",
        "#solver.solve(model)\n",
        "# solve\n",
        "SolverFactory('cplex_direct').solve(model).write()\n"
      ],
      "metadata": {
        "colab": {
          "base_uri": "https://localhost:8080/"
        },
        "id": "kaULwfV8IRyY",
        "outputId": "cc6b50a6-a612-4dc4-e492-836ff0b1be75"
      },
      "execution_count": null,
      "outputs": [
        {
          "output_type": "stream",
          "name": "stdout",
          "text": [
            "# ==========================================================\n",
            "# = Solver Results                                         =\n",
            "# ==========================================================\n",
            "# ----------------------------------------------------------\n",
            "#   Problem Information\n",
            "# ----------------------------------------------------------\n",
            "Problem: \n",
            "- Name: \n",
            "  Lower bound: 6000.0\n",
            "  Upper bound: 6000.0\n",
            "  Number of objectives: 1\n",
            "  Number of constraints: 4\n",
            "  Number of variables: 2\n",
            "  Number of binary variables: 0\n",
            "  Number of integer variables: 0\n",
            "  Number of continuous variables: 2\n",
            "  Number of nonzeros: None\n",
            "  Sense: -1\n",
            "# ----------------------------------------------------------\n",
            "#   Solver Information\n",
            "# ----------------------------------------------------------\n",
            "Solver: \n",
            "- Name: CPLEX 22.1.0.0\n",
            "  Status: ok\n",
            "  Wallclock time: 0.0008394718170166016\n",
            "  Termination condition: optimal\n",
            "# ----------------------------------------------------------\n",
            "#   Solution Information\n",
            "# ----------------------------------------------------------\n",
            "Solution: \n",
            "- number of solutions: 0\n",
            "  number of solutions displayed: 0\n"
          ]
        }
      ]
    },
    {
      "cell_type": "code",
      "source": [
        "\n",
        "# display solution\n",
        "print(\"Profit = \", model.profit())\n",
        "print(\"Units of first project share = \", model.x())\n",
        "print(\"Units of second project share = \", model.y())"
      ],
      "metadata": {
        "colab": {
          "base_uri": "https://localhost:8080/"
        },
        "id": "CykE-qcqByQ0",
        "outputId": "d57b6d55-395f-4a3c-e7ac-2a7ed50efa51"
      },
      "execution_count": null,
      "outputs": [
        {
          "output_type": "stream",
          "name": "stdout",
          "text": [
            "Profit =  6000.0\n",
            "Units of first project share =  0.6666666666666667\n",
            "Units of second project share =  0.6666666666666665\n"
          ]
        }
      ]
    },
    {
      "cell_type": "code",
      "source": [
        "!pip install pyomo -q\n",
        "!pip install cplex -q\n",
        "\n",
        "import pyomo.environ as pyo\n",
        "\n",
        "model = pyo.ConcreteModel()\n",
        "model.s = pyo.Set(initialize=[1,2])\n",
        "model.x = pyo.Var(model.s, domain=pyo.NonNegativeReals)\n",
        "\n",
        "model.c = pyo.Constraint(expr=model.x[model.s.last()]>=5)\n",
        "\n",
        "model.obj = pyo.Objective(expr=sum(model.x[s] for s in model.s), sense=pyo.minimize)\n",
        "\n",
        "solver = pyo.SolverFactory('cplex_direct')\n",
        "solver.solve(model)\n",
        "model.x.display()\n"
      ],
      "metadata": {
        "id": "Pu1TcAPmRUpH",
        "colab": {
          "base_uri": "https://localhost:8080/"
        },
        "outputId": "34331f4d-cb7d-429f-e123-7cff58a94a1f"
      },
      "execution_count": null,
      "outputs": [
        {
          "output_type": "stream",
          "name": "stdout",
          "text": [
            "x : Size=2, Index=s\n",
            "    Key : Lower : Value : Upper : Fixed : Stale : Domain\n",
            "      1 :     0 :   0.0 :  None : False : False : NonNegativeReals\n",
            "      2 :     0 :   5.0 :  None : False : False : NonNegativeReals\n"
          ]
        }
      ]
    }
  ]
}