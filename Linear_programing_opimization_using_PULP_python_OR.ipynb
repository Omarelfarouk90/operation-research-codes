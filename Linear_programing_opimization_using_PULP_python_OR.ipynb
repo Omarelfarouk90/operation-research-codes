{
  "nbformat": 4,
  "nbformat_minor": 0,
  "metadata": {
    "colab": {
      "name": "Linear programing opimization using PULP python OR",
      "provenance": [],
      "collapsed_sections": [],
      "authorship_tag": "ABX9TyMPjpSG8jCgz9IkolowHWN8",
      "include_colab_link": true
    },
    "kernelspec": {
      "name": "python3",
      "display_name": "Python 3"
    },
    "language_info": {
      "name": "python"
    }
  },
  "cells": [
    {
      "cell_type": "markdown",
      "metadata": {
        "id": "view-in-github",
        "colab_type": "text"
      },
      "source": [
        "<a href=\"https://colab.research.google.com/github/Omarelfarouk90/operation-research-codes/blob/main/Linear_programing_opimization_using_PULP_python_OR.ipynb\" target=\"_parent\"><img src=\"https://colab.research.google.com/assets/colab-badge.svg\" alt=\"Open In Colab\"/></a>"
      ]
    },
    {
      "cell_type": "markdown",
      "source": [
        "Credits to engineer hakeem rehman and omar elfarouk\n",
        "\n",
        "first problem was conducted by engineer hakeem and second problem by engineer Omar"
      ],
      "metadata": {
        "id": "zkXJT6aMJFKA"
      }
    },
    {
      "cell_type": "code",
      "execution_count": null,
      "metadata": {
        "colab": {
          "base_uri": "https://localhost:8080/"
        },
        "id": "ZVtDMjkawCq0",
        "outputId": "d3ffd625-0f8d-479e-a82e-cc3e376be36a"
      },
      "outputs": [
        {
          "output_type": "stream",
          "name": "stdout",
          "text": [
            "Collecting pulp\n",
            "  Downloading PuLP-2.6.0-py3-none-any.whl (14.2 MB)\n",
            "\u001b[K     |████████████████████████████████| 14.2 MB 367 kB/s \n",
            "\u001b[?25hInstalling collected packages: pulp\n",
            "Successfully installed pulp-2.6.0\n"
          ]
        }
      ],
      "source": [
        "!pip install pulp"
      ]
    },
    {
      "cell_type": "code",
      "source": [
        "# Import PuLP modeler functions\n",
        "from pulp import *"
      ],
      "metadata": {
        "id": "WSWj9VSGFyGw"
      },
      "execution_count": null,
      "outputs": []
    },
    {
      "cell_type": "code",
      "source": [
        "# Create a LP maximization problem\n",
        "prob = LpProblem(\"Giapetto\", LpMaximize) "
      ],
      "metadata": {
        "id": "Avy1WwRoFzN-"
      },
      "execution_count": null,
      "outputs": []
    },
    {
      "cell_type": "code",
      "source": [
        "# LpVariable(variable name, lower Bound=None, uppper Bound=None, catagory='Continuous')\n",
        "x1 = LpVariable(\"x1\", lowBound=0,cat='Integer') # Create a variable x1 >= 0\n",
        "x2 = LpVariable(\"x2\", lowBound=0,cat='Integer') # Create another variable x2 >= 0"
      ],
      "metadata": {
        "id": "NOJ2lt8EF61n"
      },
      "execution_count": null,
      "outputs": []
    },
    {
      "cell_type": "code",
      "source": [
        "# Objective Function\n",
        "prob += 20*x1 + 30*x2  \n",
        "# prob += 20*x1 + 30*x2, \"obj\""
      ],
      "metadata": {
        "id": "QQ8xt9w9F9xm"
      },
      "execution_count": null,
      "outputs": []
    },
    {
      "cell_type": "code",
      "source": [
        "# Constraints\n",
        "prob += 1*x1 + 2*x2 <= 100  # Finishing hours\n",
        "prob += 2*x1 + 1*x2 <= 100  # Carpentry hours\n",
        "\n",
        "# prob += 1*x1 + 2*x2 <= 100,\"Finishing hours\"\n",
        "# prob += 2*x1 + 1*x2 <= 100,\"Carpentry hours\""
      ],
      "metadata": {
        "id": "GnMD-e5nGAim"
      },
      "execution_count": null,
      "outputs": []
    },
    {
      "cell_type": "code",
      "source": [
        "# Display the LP problem\n",
        "prob"
      ],
      "metadata": {
        "colab": {
          "base_uri": "https://localhost:8080/"
        },
        "id": "XzpFU8WQGE_G",
        "outputId": "c0f2fad1-3126-4eb8-f546-8193985143f1"
      },
      "execution_count": null,
      "outputs": [
        {
          "output_type": "execute_result",
          "data": {
            "text/plain": [
              "Giapetto:\n",
              "MAXIMIZE\n",
              "20*x1 + 30*x2 + 0\n",
              "SUBJECT TO\n",
              "_C1: x1 + 2 x2 <= 100\n",
              "\n",
              "_C2: 2 x1 + x2 <= 100\n",
              "\n",
              "VARIABLES\n",
              "0 <= x1 Integer\n",
              "0 <= x2 Integer"
            ]
          },
          "metadata": {},
          "execution_count": 29
        }
      ]
    },
    {
      "cell_type": "code",
      "source": [
        "# Solve with the default solver\n",
        "prob.solve()"
      ],
      "metadata": {
        "colab": {
          "base_uri": "https://localhost:8080/"
        },
        "id": "0WWkLN_hGMZ2",
        "outputId": "e80ced0d-95f0-49f0-f42b-0c24aa4c628a"
      },
      "execution_count": null,
      "outputs": [
        {
          "output_type": "execute_result",
          "data": {
            "text/plain": [
              "1"
            ]
          },
          "metadata": {},
          "execution_count": 30
        }
      ]
    },
    {
      "cell_type": "code",
      "source": [
        "# Print the solution status\n",
        "print(\"Status:\", LpStatus[prob.status])"
      ],
      "metadata": {
        "colab": {
          "base_uri": "https://localhost:8080/"
        },
        "id": "0f6PH5T1GPI3",
        "outputId": "9247cb55-0b79-4e5f-9c5b-b8ba46a230ed"
      },
      "execution_count": null,
      "outputs": [
        {
          "output_type": "stream",
          "name": "stdout",
          "text": [
            "Status: Optimal\n"
          ]
        }
      ]
    },
    {
      "cell_type": "code",
      "source": [
        "# Show the solution (1st Approach)\n",
        "value(x1), value(x2), value(prob.objective)  "
      ],
      "metadata": {
        "colab": {
          "base_uri": "https://localhost:8080/"
        },
        "id": "GRLGg_vXGQdm",
        "outputId": "08d55907-7938-4c89-e570-aa662c9822c3"
      },
      "execution_count": null,
      "outputs": [
        {
          "output_type": "execute_result",
          "data": {
            "text/plain": [
              "(32.0, 34.0, 1660.0)"
            ]
          },
          "metadata": {},
          "execution_count": 32
        }
      ]
    },
    {
      "cell_type": "code",
      "source": [
        "# Show the solution (2nd Approach)\n",
        "for v in prob.variables():\n",
        "    print (v.name, \"=\", v.varValue, \"\\tReduced Cost =\", v.dj)"
      ],
      "metadata": {
        "colab": {
          "base_uri": "https://localhost:8080/"
        },
        "id": "Z7-3GTYqGXvP",
        "outputId": "141e314f-4893-4014-f6ba-4534b009e810"
      },
      "execution_count": null,
      "outputs": [
        {
          "output_type": "stream",
          "name": "stdout",
          "text": [
            "x1 = 32.0 \tReduced Cost = 20.0\n",
            "x2 = 34.0 \tReduced Cost = 30.0\n"
          ]
        }
      ]
    },
    {
      "cell_type": "code",
      "source": [
        "print (\"objective=\", value(prob.objective))"
      ],
      "metadata": {
        "colab": {
          "base_uri": "https://localhost:8080/"
        },
        "id": "-nrRlX4cGaru",
        "outputId": "1b7f941a-de51-4d51-ad6c-b50ddab7d707"
      },
      "execution_count": null,
      "outputs": [
        {
          "output_type": "stream",
          "name": "stdout",
          "text": [
            "objective= 1660.0\n"
          ]
        }
      ]
    },
    {
      "cell_type": "code",
      "source": [
        "print (\"\\nSensitivity Analysis\\nConstraint\\t\\t\\tShadow Price\\t\\tSlack\")\n",
        "for name, c in prob.constraints.items():\n",
        "    print (name, \":\", c, \"\\t\\t\", c.pi, \"\\t\\t\", c.slack)"
      ],
      "metadata": {
        "colab": {
          "base_uri": "https://localhost:8080/"
        },
        "id": "DFYYnbCNGfAf",
        "outputId": "ebabdc9a-490f-4b21-9fc0-23d65b8f85b2"
      },
      "execution_count": null,
      "outputs": [
        {
          "output_type": "stream",
          "name": "stdout",
          "text": [
            "\n",
            "Sensitivity Analysis\n",
            "Constraint\t\t\tShadow Price\t\tSlack\n",
            "_C1 : x1 + 2*x2 <= 100 \t\t -0.0 \t\t -0.0\n",
            "_C2 : 2*x1 + x2 <= 100 \t\t -0.0 \t\t 2.0\n"
          ]
        }
      ]
    },
    {
      "cell_type": "markdown",
      "source": [
        "Using the tutuorial form tutorial 1 Question 1"
      ],
      "metadata": {
        "id": "YoLpx8onwV7X"
      }
    },
    {
      "cell_type": "markdown",
      "source": [
        "Decision variables are\n",
        "\n",
        "$x_1$ for the share in project 1\n",
        "\n",
        "and $x_2$ for the share in project 2\n",
        "\n",
        "objective fucntion\n",
        "\n",
        "maximize  $Z$ = 4500 $x_1$ + 4500 $x_2$\n",
        "\n",
        "Constraints \n",
        "\n",
        "Subject to\n",
        "\n",
        "400 $ x_1 + 500 x_2 <= 600$\n",
        "\n",
        "$ 5000 x_1 + 4000 x_2 <= 6000$\n",
        "\n",
        "$x_1 <= 1$\n",
        "\n",
        "$x_2 <= 1$\n",
        "\n",
        "$x_1 >= 0$\n",
        "\n",
        "$x_2 >= 0$"
      ],
      "metadata": {
        "id": "k_-FxUOLwe3d"
      }
    },
    {
      "cell_type": "code",
      "source": [
        "# Create a LP maximization problem\n",
        "prob = LpProblem(\"project_share\", LpMaximize) "
      ],
      "metadata": {
        "id": "AprAYi8Rwhe0"
      },
      "execution_count": null,
      "outputs": []
    },
    {
      "cell_type": "code",
      "source": [
        "# LpVariable(variable name, lower Bound=None, uppper Bound=None, catagory='Continuous')\n",
        "x1 = LpVariable(\"x1\", lowBound=0) # Create a variable x1 >= 0\n",
        "x2 = LpVariable(\"x2\", lowBound=0) # Create another variable x2 >= 0"
      ],
      "metadata": {
        "id": "N1iErHjEG3GR"
      },
      "execution_count": null,
      "outputs": []
    },
    {
      "cell_type": "code",
      "source": [
        "# Objective Function\n",
        "prob += 4500*x1 + 4500*x2  \n",
        "# prob += 4500*x1 + 4500*x2, \"obj\""
      ],
      "metadata": {
        "id": "AkFO6VPIG8Xw"
      },
      "execution_count": null,
      "outputs": []
    },
    {
      "cell_type": "code",
      "source": [
        "# Constraints\n",
        "prob += 5000*x1 + 4000*x2 <= 6000  # Money constraint\n",
        "prob += 400*x1 + 500*x2 <= 600  # Time constraint\n",
        "prob += x1 <= 1  # share 1 constraint\n",
        "prob += x2 <= 1  # share 2 constraint\n",
        "# prob += x1 + 2*x2 <= 1,\"Finishing hours\"\n",
        "# prob += 2*x1  1*x2 <= 1,\"Carpentry hours\""
      ],
      "metadata": {
        "id": "X3_Paf0-HMpH"
      },
      "execution_count": null,
      "outputs": []
    },
    {
      "cell_type": "code",
      "source": [
        "# Display the LP problem\n",
        "prob"
      ],
      "metadata": {
        "colab": {
          "base_uri": "https://localhost:8080/"
        },
        "id": "d4cMPYvLHzTv",
        "outputId": "c0fb4d15-89b3-413d-dd6f-fad636aa6281"
      },
      "execution_count": null,
      "outputs": [
        {
          "output_type": "execute_result",
          "data": {
            "text/plain": [
              "project_share:\n",
              "MAXIMIZE\n",
              "4500*x1 + 4500*x2 + 0\n",
              "SUBJECT TO\n",
              "_C1: 5000 x1 + 4000 x2 <= 6000\n",
              "\n",
              "_C2: 400 x1 + 500 x2 <= 600\n",
              "\n",
              "_C3: x1 <= 1\n",
              "\n",
              "_C4: x2 <= 1\n",
              "\n",
              "VARIABLES\n",
              "x1 Continuous\n",
              "x2 Continuous"
            ]
          },
          "metadata": {},
          "execution_count": 7
        }
      ]
    },
    {
      "cell_type": "code",
      "source": [
        "# Solve with the default solver\n",
        "prob.solve()"
      ],
      "metadata": {
        "colab": {
          "base_uri": "https://localhost:8080/"
        },
        "id": "rN2_KH5DIAM-",
        "outputId": "867cbae2-cd3b-4e13-c3ba-1d8f4ee3ecc5"
      },
      "execution_count": null,
      "outputs": [
        {
          "output_type": "execute_result",
          "data": {
            "text/plain": [
              "1"
            ]
          },
          "metadata": {},
          "execution_count": 8
        }
      ]
    },
    {
      "cell_type": "code",
      "source": [
        "# Print the solution status\n",
        "print(\"Status:\", LpStatus[prob.status])"
      ],
      "metadata": {
        "colab": {
          "base_uri": "https://localhost:8080/"
        },
        "id": "5orpPXt5IFSn",
        "outputId": "ea43d7a2-1b77-41a8-cd13-343b32895d40"
      },
      "execution_count": null,
      "outputs": [
        {
          "output_type": "stream",
          "name": "stdout",
          "text": [
            "Status: Optimal\n"
          ]
        }
      ]
    },
    {
      "cell_type": "code",
      "source": [
        "# Show the solution (1st Approach)\n",
        "value(x1), value(x2), value(prob.objective)  "
      ],
      "metadata": {
        "colab": {
          "base_uri": "https://localhost:8080/"
        },
        "id": "-t6WHFpIIJ9Q",
        "outputId": "bfa7b562-aedf-45a9-c0f2-27af74c48f47"
      },
      "execution_count": null,
      "outputs": [
        {
          "output_type": "execute_result",
          "data": {
            "text/plain": [
              "(0.66666667, 0.66666667, 6000.00003)"
            ]
          },
          "metadata": {},
          "execution_count": 10
        }
      ]
    },
    {
      "cell_type": "code",
      "source": [
        "# Show the solution (2nd Approach)\n",
        "for v in prob.variables():\n",
        "    print (v.name, \"=\", v.varValue, \"\\tReduced Cost =\", v.dj)"
      ],
      "metadata": {
        "colab": {
          "base_uri": "https://localhost:8080/"
        },
        "id": "jsZXjq2RIO5u",
        "outputId": "89f377be-024d-4290-b2ca-dc307180a58d"
      },
      "execution_count": null,
      "outputs": [
        {
          "output_type": "stream",
          "name": "stdout",
          "text": [
            "x1 = 0.66666667 \tReduced Cost = -4.5474735e-13\n",
            "x2 = 0.66666667 \tReduced Cost = 4.5474735e-13\n"
          ]
        }
      ]
    },
    {
      "cell_type": "code",
      "source": [
        "print (\"objective=\", value(prob.objective))"
      ],
      "metadata": {
        "colab": {
          "base_uri": "https://localhost:8080/"
        },
        "id": "jngG_S0ZIVFl",
        "outputId": "4affcb44-1cf5-4c33-91e1-501e372b463f"
      },
      "execution_count": null,
      "outputs": [
        {
          "output_type": "stream",
          "name": "stdout",
          "text": [
            "objective= 6000.00003\n"
          ]
        }
      ]
    },
    {
      "cell_type": "code",
      "source": [
        "print (\"\\nSensitivity Analysis\\nConstraint\\t\\t\\tShadow Price\\t\\tSlack\")\n",
        "for name, c in prob.constraints.items():\n",
        "    print (name, \":\", c, \"\\t\\t\", c.pi, \"\\t\\t\", c.slack)"
      ],
      "metadata": {
        "colab": {
          "base_uri": "https://localhost:8080/"
        },
        "id": "qyG7SmOtIzAW",
        "outputId": "993481b5-8b7e-42a0-8f61-b10471158d3d"
      },
      "execution_count": null,
      "outputs": [
        {
          "output_type": "stream",
          "name": "stdout",
          "text": [
            "\n",
            "Sensitivity Analysis\n",
            "Constraint\t\t\tShadow Price\t\tSlack\n",
            "_C1 : 5000*x1 + 4000*x2 <= 6000 \t\t 0.5 \t\t -0.0\n",
            "_C2 : 400*x1 + 500*x2 <= 600 \t\t 5.0 \t\t -0.0\n",
            "_C3 : x1 <= 1 \t\t -0.0 \t\t 0.33333333\n",
            "_C4 : x2 <= 1 \t\t -0.0 \t\t 0.33333333\n"
          ]
        }
      ]
    },
    {
      "cell_type": "markdown",
      "source": [
        "Minimization code part 3 Using PULP library"
      ],
      "metadata": {
        "id": "gB6E7IeiPS-6"
      }
    },
    {
      "cell_type": "markdown",
      "source": [
        "Decision variables are\n",
        "\n",
        "$x_1$ , $x_2$  ,$x_3$\n",
        "\n",
        "\n",
        "objective fucntion\n",
        "\n",
        "minimize  $Z$ = 3 $x_1$ + 2 $x_2$ + 4 $x_3$\n",
        "\n",
        "Constraints \n",
        "\n",
        "Subject to\n",
        "\n",
        "2 $ x_1$ +  1$x_2$+ 3$x_3$ = 60\n",
        "\n",
        "3 $ x_1$ +  3$x_2$+ 5$x_3$ >= 120\n",
        "\n",
        "\n",
        "$x_1 >= 0$ ,$x_2 >= 0$$x_3 >= 0$"
      ],
      "metadata": {
        "id": "vDQwG7PI-7-h"
      }
    },
    {
      "cell_type": "code",
      "source": [
        "# Create a LP maximization problem\n",
        "prob = LpProblem(\"project_share\", LpMinimize) "
      ],
      "metadata": {
        "id": "ugYF3qg___xJ"
      },
      "execution_count": null,
      "outputs": []
    },
    {
      "cell_type": "code",
      "source": [
        "# LpVariable(variable name, lower Bound=None, uppper Bound=None, catagory='Continuous')\n",
        "x1 = LpVariable(\"x1\", lowBound=0) # Create a variable x1 >= 0\n",
        "x2 = LpVariable(\"x2\", lowBound=0) # Create another variable x2 >= 0\n",
        "x3 = LpVariable(\"x3\", lowBound=0) # Create another variable x3 >= 0"
      ],
      "metadata": {
        "id": "ii6u8ylbAKbK"
      },
      "execution_count": null,
      "outputs": []
    },
    {
      "cell_type": "code",
      "source": [
        "# Objective Function\n",
        "prob += 3*x1 + 2*x2 +4*x3  \n",
        "# prob += 4500*x1 + 4500*x2, \"obj\""
      ],
      "metadata": {
        "id": "zVlro2soARHn"
      },
      "execution_count": null,
      "outputs": []
    },
    {
      "cell_type": "code",
      "source": [
        "# Constraints\n",
        "prob += 2*x1 + x2+ 3*x3 == 60  # Money constraint\n",
        "prob += 3*x1 + 3*x2+ 5*x3 >= 120  # Time constraint"
      ],
      "metadata": {
        "id": "H-ZswkWyAcwK"
      },
      "execution_count": null,
      "outputs": []
    },
    {
      "cell_type": "code",
      "source": [
        "# Display the LP problem\n",
        "prob"
      ],
      "metadata": {
        "colab": {
          "base_uri": "https://localhost:8080/"
        },
        "id": "iXxQS6WTA7e8",
        "outputId": "4192524c-6678-4751-b672-42e10202f7ae"
      },
      "execution_count": null,
      "outputs": [
        {
          "output_type": "execute_result",
          "data": {
            "text/plain": [
              "project_share:\n",
              "MINIMIZE\n",
              "3*x1 + 2*x2 + 4*x3 + 0\n",
              "SUBJECT TO\n",
              "_C1: 2 x1 + x2 + 3 x3 = 60\n",
              "\n",
              "_C2: 3 x1 + 3 x2 + 5 x3 >= 120\n",
              "\n",
              "VARIABLES\n",
              "x1 Continuous\n",
              "x2 Continuous\n",
              "x3 Continuous"
            ]
          },
          "metadata": {},
          "execution_count": 15
        }
      ]
    },
    {
      "cell_type": "code",
      "source": [
        "prob.solve()"
      ],
      "metadata": {
        "colab": {
          "base_uri": "https://localhost:8080/"
        },
        "id": "yuch_9EtBCvQ",
        "outputId": "4ae4e1b4-0aef-4479-e4e4-a04f36865395"
      },
      "execution_count": null,
      "outputs": [
        {
          "output_type": "execute_result",
          "data": {
            "text/plain": [
              "1"
            ]
          },
          "metadata": {},
          "execution_count": 10
        }
      ]
    },
    {
      "cell_type": "code",
      "source": [
        "value(x1), value(x2),value(x3), value(prob.objective)  "
      ],
      "metadata": {
        "id": "y9TjUPeqBGvQ",
        "outputId": "ae6812b1-e639-44d0-ec08-24f4a0e21eaa",
        "colab": {
          "base_uri": "https://localhost:8080/"
        }
      },
      "execution_count": null,
      "outputs": [
        {
          "output_type": "execute_result",
          "data": {
            "text/plain": [
              "(0.0, 15.0, 15.0, 90.0)"
            ]
          },
          "metadata": {},
          "execution_count": 12
        }
      ]
    }
  ]
}