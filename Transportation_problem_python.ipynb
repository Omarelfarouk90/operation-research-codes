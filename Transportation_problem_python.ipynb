{
  "nbformat": 4,
  "nbformat_minor": 0,
  "metadata": {
    "colab": {
      "name": "Transportation problem python.ipynb",
      "provenance": [],
      "authorship_tag": "ABX9TyPyTKZiIkxDQF5jABxy/kQC",
      "include_colab_link": true
    },
    "kernelspec": {
      "name": "python3",
      "display_name": "Python 3"
    },
    "language_info": {
      "name": "python"
    }
  },
  "cells": [
    {
      "cell_type": "markdown",
      "metadata": {
        "id": "view-in-github",
        "colab_type": "text"
      },
      "source": [
        "<a href=\"https://colab.research.google.com/github/Omarelfarouk90/operation-research-codes/blob/main/Transportation_problem_python.ipynb\" target=\"_parent\"><img src=\"https://colab.research.google.com/assets/colab-badge.svg\" alt=\"Open In Colab\"/></a>"
      ]
    },
    {
      "cell_type": "code",
      "execution_count": null,
      "metadata": {
        "colab": {
          "base_uri": "https://localhost:8080/"
        },
        "id": "n297223JUI93",
        "outputId": "434d07fb-86a0-4d5d-b043-ea260fb6c5ae"
      },
      "outputs": [
        {
          "output_type": "stream",
          "name": "stdout",
          "text": [
            "Collecting quantecon\n",
            "  Downloading quantecon-0.5.2-py3-none-any.whl (269 kB)\n",
            "\u001b[?25l\r\u001b[K     |█▏                              | 10 kB 9.4 MB/s eta 0:00:01\r\u001b[K     |██▍                             | 20 kB 5.2 MB/s eta 0:00:01\r\u001b[K     |███▋                            | 30 kB 3.8 MB/s eta 0:00:01\r\u001b[K     |████▉                           | 40 kB 3.7 MB/s eta 0:00:01\r\u001b[K     |██████                          | 51 kB 3.4 MB/s eta 0:00:01\r\u001b[K     |███████▎                        | 61 kB 4.0 MB/s eta 0:00:01\r\u001b[K     |████████▌                       | 71 kB 4.1 MB/s eta 0:00:01\r\u001b[K     |█████████▊                      | 81 kB 4.0 MB/s eta 0:00:01\r\u001b[K     |███████████                     | 92 kB 4.5 MB/s eta 0:00:01\r\u001b[K     |████████████▏                   | 102 kB 4.5 MB/s eta 0:00:01\r\u001b[K     |█████████████▍                  | 112 kB 4.5 MB/s eta 0:00:01\r\u001b[K     |██████████████▋                 | 122 kB 4.5 MB/s eta 0:00:01\r\u001b[K     |███████████████▉                | 133 kB 4.5 MB/s eta 0:00:01\r\u001b[K     |█████████████████               | 143 kB 4.5 MB/s eta 0:00:01\r\u001b[K     |██████████████████▎             | 153 kB 4.5 MB/s eta 0:00:01\r\u001b[K     |███████████████████▌            | 163 kB 4.5 MB/s eta 0:00:01\r\u001b[K     |████████████████████▊           | 174 kB 4.5 MB/s eta 0:00:01\r\u001b[K     |██████████████████████          | 184 kB 4.5 MB/s eta 0:00:01\r\u001b[K     |███████████████████████▏        | 194 kB 4.5 MB/s eta 0:00:01\r\u001b[K     |████████████████████████▍       | 204 kB 4.5 MB/s eta 0:00:01\r\u001b[K     |█████████████████████████▋      | 215 kB 4.5 MB/s eta 0:00:01\r\u001b[K     |██████████████████████████▉     | 225 kB 4.5 MB/s eta 0:00:01\r\u001b[K     |████████████████████████████    | 235 kB 4.5 MB/s eta 0:00:01\r\u001b[K     |█████████████████████████████▏  | 245 kB 4.5 MB/s eta 0:00:01\r\u001b[K     |██████████████████████████████▍ | 256 kB 4.5 MB/s eta 0:00:01\r\u001b[K     |███████████████████████████████▋| 266 kB 4.5 MB/s eta 0:00:01\r\u001b[K     |████████████████████████████████| 269 kB 4.5 MB/s \n",
            "\u001b[?25hRequirement already satisfied: numpy in /usr/local/lib/python3.7/dist-packages (from quantecon) (1.21.5)\n",
            "Requirement already satisfied: requests in /usr/local/lib/python3.7/dist-packages (from quantecon) (2.23.0)\n",
            "Requirement already satisfied: sympy in /usr/local/lib/python3.7/dist-packages (from quantecon) (1.7.1)\n",
            "Requirement already satisfied: numba>=0.38 in /usr/local/lib/python3.7/dist-packages (from quantecon) (0.51.2)\n",
            "Requirement already satisfied: scipy>=1.0.0 in /usr/local/lib/python3.7/dist-packages (from quantecon) (1.4.1)\n",
            "Requirement already satisfied: setuptools in /usr/local/lib/python3.7/dist-packages (from numba>=0.38->quantecon) (57.4.0)\n",
            "Requirement already satisfied: llvmlite<0.35,>=0.34.0.dev0 in /usr/local/lib/python3.7/dist-packages (from numba>=0.38->quantecon) (0.34.0)\n",
            "Requirement already satisfied: chardet<4,>=3.0.2 in /usr/local/lib/python3.7/dist-packages (from requests->quantecon) (3.0.4)\n",
            "Requirement already satisfied: idna<3,>=2.5 in /usr/local/lib/python3.7/dist-packages (from requests->quantecon) (2.10)\n",
            "Requirement already satisfied: certifi>=2017.4.17 in /usr/local/lib/python3.7/dist-packages (from requests->quantecon) (2021.10.8)\n",
            "Requirement already satisfied: urllib3!=1.25.0,!=1.25.1,<1.26,>=1.21.1 in /usr/local/lib/python3.7/dist-packages (from requests->quantecon) (1.24.3)\n",
            "Requirement already satisfied: mpmath>=0.19 in /usr/local/lib/python3.7/dist-packages (from sympy->quantecon) (1.2.1)\n",
            "Installing collected packages: quantecon\n",
            "Successfully installed quantecon-0.5.2\n",
            "Collecting POT\n",
            "  Downloading POT-0.8.1.0-cp37-cp37m-manylinux_2_12_x86_64.manylinux2010_x86_64.whl (656 kB)\n",
            "\u001b[K     |████████████████████████████████| 656 kB 5.0 MB/s \n",
            "\u001b[?25hRequirement already satisfied: jax in /usr/local/lib/python3.7/dist-packages (0.3.4)\n",
            "Requirement already satisfied: jaxlib in /usr/local/lib/python3.7/dist-packages (0.3.2+cuda11.cudnn805)\n",
            "Requirement already satisfied: scipy>=1.0 in /usr/local/lib/python3.7/dist-packages (from POT) (1.4.1)\n",
            "Requirement already satisfied: numpy>=1.20 in /usr/local/lib/python3.7/dist-packages (from POT) (1.21.5)\n",
            "Requirement already satisfied: typing-extensions in /usr/local/lib/python3.7/dist-packages (from jax) (3.10.0.2)\n",
            "Requirement already satisfied: opt-einsum in /usr/local/lib/python3.7/dist-packages (from jax) (3.3.0)\n",
            "Requirement already satisfied: absl-py in /usr/local/lib/python3.7/dist-packages (from jax) (1.0.0)\n",
            "Requirement already satisfied: flatbuffers<3.0,>=1.12 in /usr/local/lib/python3.7/dist-packages (from jaxlib) (2.0)\n",
            "Requirement already satisfied: six in /usr/local/lib/python3.7/dist-packages (from absl-py->jax) (1.15.0)\n",
            "Installing collected packages: POT\n",
            "Successfully installed POT-0.8.1.0\n"
          ]
        }
      ],
      "source": [
        "!pip install --upgrade quantecon\n",
        "!pip install --upgrade POT jax jaxlib"
      ]
    },
    {
      "cell_type": "markdown",
      "source": [
        "Importing libraries"
      ],
      "metadata": {
        "id": "nqnzsgKQUVGt"
      }
    },
    {
      "cell_type": "code",
      "source": [
        "import numpy as np\n",
        "import matplotlib.pyplot as plt\n",
        "from scipy.optimize import linprog\n",
        "from quantecon.optimize.linprog_simplex import linprog_simplex\n",
        "import ot\n",
        "from scipy.stats import binom, betabinom\n",
        "import networkx as nx"
      ],
      "metadata": {
        "colab": {
          "base_uri": "https://localhost:8080/"
        },
        "id": "EHTB1uJCURdF",
        "outputId": "9c1506e6-b9bc-40d7-ec92-bd3a02cb6935"
      },
      "execution_count": null,
      "outputs": [
        {
          "output_type": "stream",
          "name": "stderr",
          "text": [
            "/usr/local/lib/python3.7/dist-packages/numba/np/ufunc/parallel.py:363: NumbaWarning: The TBB threading layer requires TBB version 2019.5 or later i.e., TBB_INTERFACE_VERSION >= 11005. Found TBB_INTERFACE_VERSION = 9107. The TBB threading layer is disabled.\n",
            "  warnings.warn(problem)\n"
          ]
        }
      ]
    },
    {
      "cell_type": "markdown",
      "source": [
        "Adding the costs, supply and demand "
      ],
      "metadata": {
        "id": "uYxKYJuwUvt0"
      }
    },
    {
      "cell_type": "code",
      "source": [
        "# Define parameters for number of supply and the number of demand, 5 customers and 3 suppliers\n",
        "m = 3\n",
        "n = 5\n",
        "\n",
        "p = np.array([50, 100, 150])\n",
        "q = np.array([25, 115, 60, 30, 70])\n",
        "\n",
        "C = np.array([[10, 15, 20, 20, 40],\n",
        "              [20, 40, 15, 30, 30],\n",
        "              [30, 35, 40, 55, 25]])\n",
        "\n",
        "# Vectorize matrix C\n",
        "C_vec = C.reshape((m*n, 1), order='F')\n",
        "\n",
        "# Construct matrix A by Kronecker product\n",
        "A1 = np.kron(np.ones((1, n)), np.identity(m))\n",
        "A2 = np.kron(np.identity(n), np.ones((1, m)))\n",
        "A = np.vstack([A1, A2])\n",
        "\n",
        "# Construct vector b\n",
        "b = np.hstack([p, q])\n",
        "\n",
        "# Solve the primal problem\n",
        "res = linprog(C_vec, A_eq=A, b_eq=b, method='Revised simplex')\n",
        "\n",
        "# Print results\n",
        "print(\"message:\", res.message)\n",
        "print(\"nit:\", res.nit)\n",
        "print(\"fun:\", res.fun)\n",
        "print(\"z:\", res.x)\n",
        "print(\"X:\", res.x.reshape((m,n), order='F'))"
      ],
      "metadata": {
        "colab": {
          "base_uri": "https://localhost:8080/"
        },
        "id": "ud5eBKAXUq1M",
        "outputId": "ee4306e8-65ec-40da-d9e3-3c728b7b2357"
      },
      "execution_count": null,
      "outputs": [
        {
          "output_type": "stream",
          "name": "stdout",
          "text": [
            "message: Optimization terminated successfully.\n",
            "nit: 12\n",
            "fun: 7225.0\n",
            "z: [15. 10.  0. 35.  0. 80.  0. 60.  0.  0. 30.  0.  0.  0. 70.]\n",
            "X: [[15. 35.  0.  0.  0.]\n",
            " [10.  0. 60. 30.  0.]\n",
            " [ 0. 80.  0.  0. 70.]]\n"
          ]
        },
        {
          "output_type": "stream",
          "name": "stderr",
          "text": [
            "/usr/local/lib/python3.7/dist-packages/ipykernel_launcher.py:24: OptimizeWarning: A_eq does not appear to be of full row rank. To improve performance, check the problem formulation for redundant equality constraints.\n"
          ]
        }
      ]
    },
    {
      "cell_type": "code",
      "source": [
        ""
      ],
      "metadata": {
        "id": "YJLKwpt-m8bP"
      },
      "execution_count": null,
      "outputs": []
    },
    {
      "cell_type": "code",
      "source": [
        "A"
      ],
      "metadata": {
        "colab": {
          "base_uri": "https://localhost:8080/"
        },
        "id": "cyMF1I35Vt5u",
        "outputId": "7d6eb146-7ce6-462c-d782-836faa882de7"
      },
      "execution_count": null,
      "outputs": [
        {
          "output_type": "execute_result",
          "data": {
            "text/plain": [
              "array([[1., 0., 0., 1., 0., 0., 1., 0., 0., 1., 0., 0., 1., 0., 0.],\n",
              "       [0., 1., 0., 0., 1., 0., 0., 1., 0., 0., 1., 0., 0., 1., 0.],\n",
              "       [0., 0., 1., 0., 0., 1., 0., 0., 1., 0., 0., 1., 0., 0., 1.],\n",
              "       [1., 1., 1., 0., 0., 0., 0., 0., 0., 0., 0., 0., 0., 0., 0.],\n",
              "       [0., 0., 0., 1., 1., 1., 0., 0., 0., 0., 0., 0., 0., 0., 0.],\n",
              "       [0., 0., 0., 0., 0., 0., 1., 1., 1., 0., 0., 0., 0., 0., 0.],\n",
              "       [0., 0., 0., 0., 0., 0., 0., 0., 0., 1., 1., 1., 0., 0., 0.],\n",
              "       [0., 0., 0., 0., 0., 0., 0., 0., 0., 0., 0., 0., 1., 1., 1.]])"
            ]
          },
          "metadata": {},
          "execution_count": 4
        }
      ]
    },
    {
      "cell_type": "markdown",
      "source": [
        "Remove redundant constraints"
      ],
      "metadata": {
        "id": "Jyp8OTwyW2xl"
      }
    },
    {
      "cell_type": "code",
      "source": [
        "linprog(C_vec, A_eq=A[:-1], b_eq=b[:-1], method='Revised simplex')"
      ],
      "metadata": {
        "colab": {
          "base_uri": "https://localhost:8080/"
        },
        "id": "WGxfb53jV6n8",
        "outputId": "eb2d97d0-e799-483d-b779-d1df0da570b2"
      },
      "execution_count": null,
      "outputs": [
        {
          "output_type": "execute_result",
          "data": {
            "text/plain": [
              "     con: array([0., 0., 0., 0., 0., 0., 0.])\n",
              "     fun: 7225.0\n",
              " message: 'Optimization terminated successfully.'\n",
              "     nit: 13\n",
              "   slack: array([], dtype=float64)\n",
              "  status: 0\n",
              " success: True\n",
              "       x: array([ 0., 25.,  0., 35.,  0., 80.,  0., 60.,  0., 15., 15.,  0.,  0.,\n",
              "        0., 70.])"
            ]
          },
          "metadata": {},
          "execution_count": 5
        }
      ]
    },
    {
      "cell_type": "code",
      "source": [
        "# Print results\n",
        "print(\"message:\", res.message)\n",
        "print(\"nit:\", res.nit)\n",
        "print(\"fun:\", res.fun)\n",
        "print(\"z:\", res.x)\n",
        "print(\"X:\", res.x.reshape((m,n), order='F'))"
      ],
      "metadata": {
        "colab": {
          "base_uri": "https://localhost:8080/"
        },
        "id": "oo4nHibQWWXc",
        "outputId": "c1a238c5-4fab-4ab8-b53f-bf73d5faefb9"
      },
      "execution_count": null,
      "outputs": [
        {
          "output_type": "stream",
          "name": "stdout",
          "text": [
            "message: Optimization terminated successfully.\n",
            "nit: 12\n",
            "fun: 7225.0\n",
            "z: [15. 10.  0. 35.  0. 80.  0. 60.  0.  0. 30.  0.  0.  0. 70.]\n",
            "X: [[15. 35.  0.  0.  0.]\n",
            " [10.  0. 60. 30.  0.]\n",
            " [ 0. 80.  0.  0. 70.]]\n"
          ]
        }
      ]
    },
    {
      "cell_type": "markdown",
      "source": [
        "check for possible feasable solutions"
      ],
      "metadata": {
        "id": "4PvezrYUW5wc"
      }
    },
    {
      "cell_type": "code",
      "source": [
        "arr = np.arange(m+n)"
      ],
      "metadata": {
        "id": "c2UAz0aQXAkt"
      },
      "execution_count": null,
      "outputs": []
    },
    {
      "cell_type": "code",
      "source": [
        "sol_found = []\n",
        "cost = []\n",
        "\n",
        "# simulate 1000 times\n",
        "for i in range(1000):\n",
        "\n",
        "    np.random.shuffle(arr)\n",
        "    res_shuffle = linprog(C_vec, A_eq=A[arr], b_eq=b[arr], method='Revised simplex')\n",
        "\n",
        "    # if find a new solution\n",
        "    sol = tuple(res_shuffle.x)\n",
        "    if sol not in sol_found:\n",
        "        sol_found.append(sol)\n",
        "        cost.append(res_shuffle.fun)"
      ],
      "metadata": {
        "colab": {
          "base_uri": "https://localhost:8080/"
        },
        "id": "toqwCMB_XBWk",
        "outputId": "a418660a-d841-48b1-8992-cea567af9d54"
      },
      "execution_count": null,
      "outputs": [
        {
          "output_type": "stream",
          "name": "stderr",
          "text": [
            "/usr/local/lib/python3.7/dist-packages/ipykernel_launcher.py:8: OptimizeWarning: A_eq does not appear to be of full row rank. To improve performance, check the problem formulation for redundant equality constraints.\n",
            "  \n"
          ]
        }
      ]
    },
    {
      "cell_type": "code",
      "source": [
        "for i in range(len(sol_found)):\n",
        "    print(f\"transportation plan {i}: \", sol_found[i])\n",
        "    print(f\"     minimized cost {i}: \", cost[i])"
      ],
      "metadata": {
        "colab": {
          "base_uri": "https://localhost:8080/"
        },
        "id": "WUNggMj2XKP2",
        "outputId": "ed01ed7b-9795-46d0-8af2-e271d4f91464"
      },
      "execution_count": null,
      "outputs": [
        {
          "output_type": "stream",
          "name": "stdout",
          "text": [
            "transportation plan 0:  (0.0, 25.0, 0.0, 35.0, 0.0, 80.0, 0.0, 60.0, 0.0, 15.0, 15.0, 0.0, 0.0, 0.0, 70.0)\n",
            "     minimized cost 0:  7225.0\n",
            "transportation plan 1:  (15.0, 10.0, 0.0, 35.0, 0.0, 80.0, 0.0, 60.0, 0.0, 0.0, 30.0, 0.0, 0.0, 0.0, 70.0)\n",
            "     minimized cost 1:  7225.0\n"
          ]
        }
      ]
    },
    {
      "cell_type": "code",
      "source": [
        "linprog(C_vec, A_eq=A[1:], b_eq=b[1:], method='Revised simplex')"
      ],
      "metadata": {
        "colab": {
          "base_uri": "https://localhost:8080/"
        },
        "id": "C2tFi4kEXV9s",
        "outputId": "f1ae05a4-47e8-4b8b-b939-a2e0a8d1a566"
      },
      "execution_count": null,
      "outputs": [
        {
          "output_type": "execute_result",
          "data": {
            "text/plain": [
              "     con: array([0., 0., 0., 0., 0., 0., 0.])\n",
              "     fun: 7225.0\n",
              " message: 'Optimization terminated successfully.'\n",
              "     nit: 12\n",
              "   slack: array([], dtype=float64)\n",
              "  status: 0\n",
              " success: True\n",
              "       x: array([15., 10.,  0., 35.,  0., 80.,  0., 60.,  0.,  0., 30.,  0.,  0.,\n",
              "        0., 70.])"
            ]
          },
          "metadata": {},
          "execution_count": 10
        }
      ]
    },
    {
      "cell_type": "markdown",
      "source": [
        "comparing scipy with quantecon library for the faster computation"
      ],
      "metadata": {
        "id": "LwXJ6jYAX4nX"
      }
    },
    {
      "cell_type": "code",
      "source": [
        "# construct matrices/vectors for linprog_simplex\n",
        "c = C.flatten()\n",
        "\n",
        "# Equality constraints\n",
        "A_eq = np.zeros((m+n, m*n))\n",
        "for i in range(m):\n",
        "    for j in range(n):\n",
        "        A_eq[i, i*n+j] = 1\n",
        "        A_eq[m+j, i*n+j] = 1\n",
        "\n",
        "b_eq = np.hstack([p, q])"
      ],
      "metadata": {
        "id": "g3UBUkEIYAwV"
      },
      "execution_count": null,
      "outputs": []
    },
    {
      "cell_type": "code",
      "source": [
        "res_qe = linprog_simplex(-c, A_eq=A_eq, b_eq=b_eq)"
      ],
      "metadata": {
        "id": "2rMmRtucYFwz"
      },
      "execution_count": null,
      "outputs": []
    },
    {
      "cell_type": "code",
      "source": [
        "res_qe.x.reshape((m, n), order='C')"
      ],
      "metadata": {
        "colab": {
          "base_uri": "https://localhost:8080/"
        },
        "id": "k8RUAKycYISz",
        "outputId": "6b8398bc-1147-4c31-9803-06e567156d02"
      },
      "execution_count": null,
      "outputs": [
        {
          "output_type": "execute_result",
          "data": {
            "text/plain": [
              "array([[15., 35.,  0.,  0.,  0.],\n",
              "       [10.,  0., 60., 30.,  0.],\n",
              "       [ 0., 80.,  0.,  0., 70.]])"
            ]
          },
          "metadata": {},
          "execution_count": 13
        }
      ]
    },
    {
      "cell_type": "code",
      "source": [
        "res.x.reshape((m, n), order='F')"
      ],
      "metadata": {
        "colab": {
          "base_uri": "https://localhost:8080/"
        },
        "id": "DGexxQeTYLY8",
        "outputId": "e4c749bc-06c3-4796-9f09-cc8f8f44c13c"
      },
      "execution_count": null,
      "outputs": [
        {
          "output_type": "execute_result",
          "data": {
            "text/plain": [
              "array([[15., 35.,  0.,  0.,  0.],\n",
              "       [10.,  0., 60., 30.,  0.],\n",
              "       [ 0., 80.,  0.,  0., 70.]])"
            ]
          },
          "metadata": {},
          "execution_count": 14
        }
      ]
    },
    {
      "cell_type": "code",
      "source": [
        "# scipy.optimize.linprog\n",
        "%time res = linprog(C_vec, A_eq=A[:-1, :], b_eq=b[:-1], method='Revised simplex')"
      ],
      "metadata": {
        "id": "6BCnZXDxYOPb",
        "outputId": "8559ec2f-ef5b-4a54-9bb9-1309a2de7801",
        "colab": {
          "base_uri": "https://localhost:8080/"
        }
      },
      "execution_count": null,
      "outputs": [
        {
          "output_type": "stream",
          "name": "stdout",
          "text": [
            "CPU times: user 8.01 ms, sys: 0 ns, total: 8.01 ms\n",
            "Wall time: 16.6 ms\n"
          ]
        }
      ]
    },
    {
      "cell_type": "code",
      "source": [
        "# quantecon.optimize.linprog_simplex\n",
        "%time out = linprog_simplex(-c, A_eq=A_eq, b_eq=b_eq)"
      ],
      "metadata": {
        "id": "oan95XueYRD8",
        "outputId": "96f59090-beab-4ff5-aa81-39fca8c5b042",
        "colab": {
          "base_uri": "https://localhost:8080/"
        }
      },
      "execution_count": null,
      "outputs": [
        {
          "output_type": "stream",
          "name": "stdout",
          "text": [
            "CPU times: user 167 µs, sys: 0 ns, total: 167 µs\n",
            "Wall time: 173 µs\n"
          ]
        }
      ]
    },
    {
      "cell_type": "code",
      "source": [
        ""
      ],
      "metadata": {
        "id": "ZbVbKoA2YT30"
      },
      "execution_count": null,
      "outputs": []
    }
  ]
}