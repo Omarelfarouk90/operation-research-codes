{
  "nbformat": 4,
  "nbformat_minor": 0,
  "metadata": {
    "colab": {
      "name": "Assignment problem .ipynb",
      "provenance": [],
      "authorship_tag": "ABX9TyN+w3GCTyWnqtBnGLHislK3",
      "include_colab_link": true
    },
    "kernelspec": {
      "name": "python3",
      "display_name": "Python 3"
    },
    "language_info": {
      "name": "python"
    }
  },
  "cells": [
    {
      "cell_type": "markdown",
      "metadata": {
        "id": "view-in-github",
        "colab_type": "text"
      },
      "source": [
        "<a href=\"https://colab.research.google.com/github/Omarelfarouk90/operation-research-codes/blob/main/Assignment_problem_.ipynb\" target=\"_parent\"><img src=\"https://colab.research.google.com/assets/colab-badge.svg\" alt=\"Open In Colab\"/></a>"
      ]
    },
    {
      "cell_type": "markdown",
      "source": [
        "installing and importing pulp library "
      ],
      "metadata": {
        "id": "X533fXnhnNZE"
      }
    },
    {
      "cell_type": "code",
      "execution_count": null,
      "metadata": {
        "colab": {
          "base_uri": "https://localhost:8080/"
        },
        "id": "_D0uu6Ebm_ei",
        "outputId": "58bd404b-7a0c-473e-bece-bde10bda3a0d"
      },
      "outputs": [
        {
          "output_type": "stream",
          "name": "stdout",
          "text": [
            "Collecting pulp\n",
            "  Downloading PuLP-2.6.0-py3-none-any.whl (14.2 MB)\n",
            "\u001b[K     |████████████████████████████████| 14.2 MB 5.3 MB/s \n",
            "\u001b[?25hInstalling collected packages: pulp\n",
            "Successfully installed pulp-2.6.0\n"
          ]
        }
      ],
      "source": [
        "!pip install pulp"
      ]
    },
    {
      "cell_type": "markdown",
      "source": [
        "Specifying the number of workers to the number of jobs needed"
      ],
      "metadata": {
        "id": "bC49si7wnTc0"
      }
    },
    {
      "cell_type": "code",
      "source": [
        "# # Import all classes of PuLP module\n",
        "from pulp import *\n",
        "\n",
        "workers=[1,2,3,4]\n",
        "jobs=[1,2,3,4]\n",
        "\n",
        "# Cost Matrix\n",
        "costs=[[1,2,1,9],\n",
        "      [4,5,2,2],\n",
        "      [7,3,9,3],\n",
        "      [2,3,5,1]]\n",
        "\n",
        "prob = LpProblem(\"Assignment Problem\", LpMinimize) "
      ],
      "metadata": {
        "colab": {
          "base_uri": "https://localhost:8080/"
        },
        "id": "BDsMX0h1nHu8",
        "outputId": "11525441-31d1-42e3-801a-cb668928f0f1"
      },
      "execution_count": null,
      "outputs": [
        {
          "output_type": "stream",
          "name": "stderr",
          "text": [
            "/usr/local/lib/python3.7/dist-packages/pulp/pulp.py:1352: UserWarning: Spaces are not permitted in the name. Converted to '_'\n",
            "  warnings.warn(\"Spaces are not permitted in the name. Converted to '_'\")\n"
          ]
        }
      ]
    },
    {
      "cell_type": "markdown",
      "source": [
        "defining the decision variable to the assignement problem"
      ],
      "metadata": {
        "id": "wXqe6JJvnjXz"
      }
    },
    {
      "cell_type": "code",
      "source": [
        "# The cost data is made into a dictionary\n",
        "costs= makeDict([workers, jobs], costs, 0)\n",
        "\n",
        "# Creates a list of tuples containing all the possible assignments\n",
        "assign = [(w, j) for w in workers for j in jobs]\n",
        "\n",
        "# A dictionary called 'Vars' is created to contain the referenced variables\n",
        "vars = LpVariable.dicts(\"Assign\", (workers, jobs), 0, None, LpBinary)"
      ],
      "metadata": {
        "id": "hVMA6huJnaDT"
      },
      "execution_count": null,
      "outputs": []
    },
    {
      "cell_type": "markdown",
      "source": [
        "Defining the objective function"
      ],
      "metadata": {
        "id": "gnnNozzDnoWD"
      }
    },
    {
      "cell_type": "code",
      "source": [
        "# The objective function is added to 'prob' first\n",
        "prob += (\n",
        "    lpSum([vars[w][j] * costs[w][j] for (w, j) in assign]),\n",
        "    \"Sum_of_Assignment_Costs\",\n",
        ")"
      ],
      "metadata": {
        "id": "jQ7w1c_AnqPT"
      },
      "execution_count": null,
      "outputs": []
    },
    {
      "cell_type": "markdown",
      "source": [
        "Defining the constraints for the asssignment problem "
      ],
      "metadata": {
        "id": "T3vef256nwSk"
      }
    },
    {
      "cell_type": "code",
      "source": [
        "# There are row constraints. Each job can be assigned to only one employee.\n",
        "for j in jobs:\n",
        "    prob+= lpSum(vars[w][j] for w in workers) == 1\n",
        "\n",
        "# There are column constraints. Each employee can be assigned to only one job.\n",
        "for w in workers:\n",
        "    prob+= lpSum(vars[w][j] for j in jobs) == 1"
      ],
      "metadata": {
        "id": "LI1nrqEfntL0"
      },
      "execution_count": null,
      "outputs": []
    },
    {
      "cell_type": "markdown",
      "source": [
        "Model solution"
      ],
      "metadata": {
        "id": "xEfi_k9gn0uF"
      }
    },
    {
      "cell_type": "code",
      "source": [
        "# The problem is solved using PuLP's choice of Solver\n",
        "prob.solve()\n",
        "\n",
        "# Print the variables optimized value\n",
        "for v in prob.variables():\n",
        "    print(v.name, \"=\", v.varValue)\n",
        "    \n",
        "# The optimised objective function value is printed to the screen\n",
        "print(\"Value of Objective Function = \", value(prob.objective))"
      ],
      "metadata": {
        "id": "U_gqAmAKn2FT",
        "outputId": "bfce6f12-3f17-464f-9a49-147a25e3b52a",
        "colab": {
          "base_uri": "https://localhost:8080/"
        }
      },
      "execution_count": null,
      "outputs": [
        {
          "output_type": "stream",
          "name": "stdout",
          "text": [
            "Assign_1_1 = 1.0\n",
            "Assign_1_2 = 0.0\n",
            "Assign_1_3 = 0.0\n",
            "Assign_1_4 = 0.0\n",
            "Assign_2_1 = 0.0\n",
            "Assign_2_2 = 0.0\n",
            "Assign_2_3 = 1.0\n",
            "Assign_2_4 = 0.0\n",
            "Assign_3_1 = 0.0\n",
            "Assign_3_2 = 1.0\n",
            "Assign_3_3 = 0.0\n",
            "Assign_3_4 = 0.0\n",
            "Assign_4_1 = 0.0\n",
            "Assign_4_2 = 0.0\n",
            "Assign_4_3 = 0.0\n",
            "Assign_4_4 = 1.0\n",
            "Value of Objective Function =  7.0\n"
          ]
        }
      ]
    }
  ]
}